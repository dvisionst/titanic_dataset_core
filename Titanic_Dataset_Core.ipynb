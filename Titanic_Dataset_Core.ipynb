{
  "nbformat": 4,
  "nbformat_minor": 0,
  "metadata": {
    "colab": {
      "name": "Titanic_Dataset_Core.ipynb",
      "provenance": [],
      "collapsed_sections": [],
      "mount_file_id": "1Ug3_xXKf6B-qBZcEOu_LdeEGsoRSzTIc",
      "authorship_tag": "ABX9TyMyGK0uTRyg+NN+zSVDkXYu",
      "include_colab_link": true
    },
    "kernelspec": {
      "name": "python3",
      "display_name": "Python 3"
    },
    "language_info": {
      "name": "python"
    }
  },
  "cells": [
    {
      "cell_type": "markdown",
      "metadata": {
        "id": "view-in-github",
        "colab_type": "text"
      },
      "source": [
        "<a href=\"https://colab.research.google.com/github/dvisionst/titanic_dataset_core/blob/main/Titanic_Dataset_Core.ipynb\" target=\"_parent\"><img src=\"https://colab.research.google.com/assets/colab-badge.svg\" alt=\"Open In Colab\"/></a>"
      ]
    },
    {
      "cell_type": "markdown",
      "source": [
        "# Titanic Dataset Core\n",
        "- Jose Flores\n",
        "- 06/29/2022"
      ],
      "metadata": {
        "id": "5YGrIrXeBi1d"
      }
    },
    {
      "cell_type": "code",
      "execution_count": 66,
      "metadata": {
        "id": "_ru3Ht5yBd7c"
      },
      "outputs": [],
      "source": [
        "import pandas as pd\n",
        "import numpy as np\n"
      ]
    },
    {
      "cell_type": "markdown",
      "source": [
        "## 1. Display the head of the dataframe."
      ],
      "metadata": {
        "id": "EFp_JkOoCcln"
      }
    },
    {
      "cell_type": "code",
      "source": [
        "# 1. Display the head of the dataframe.\n",
        "data = '/content/titanic.csv'\n",
        "titanic_df = pd.read_csv(data)\n",
        "print(len(titanic_df))\n",
        "titanic_df.head()\n"
      ],
      "metadata": {
        "colab": {
          "base_uri": "https://localhost:8080/",
          "height": 224
        },
        "id": "frBlPxcbBw1o",
        "outputId": "c2bbc6c6-005c-4448-fdc7-d4bc09bd7aaa"
      },
      "execution_count": 67,
      "outputs": [
        {
          "output_type": "stream",
          "name": "stdout",
          "text": [
            "891\n"
          ]
        },
        {
          "output_type": "execute_result",
          "data": {
            "text/plain": [
              "   PassengerId  Survived  Pclass  \\\n",
              "0            1         0       3   \n",
              "1            2         1       1   \n",
              "2            3         1       3   \n",
              "3            4         1       1   \n",
              "4            5         0       3   \n",
              "\n",
              "                                                Name     Sex   Age  SibSp  \\\n",
              "0                            Braund, Mr. Owen Harris    male  22.0      1   \n",
              "1  Cumings, Mrs. John Bradley (Florence Briggs Th...  female  38.0      1   \n",
              "2                             Heikkinen, Miss. Laina  female  26.0      0   \n",
              "3       Futrelle, Mrs. Jacques Heath (Lily May Peel)  female  35.0      1   \n",
              "4                           Allen, Mr. William Henry    male  35.0      0   \n",
              "\n",
              "   Parch            Ticket     Fare Cabin Embarked  \n",
              "0      0         A/5 21171   7.2500   NaN        S  \n",
              "1      0          PC 17599  71.2833   C85        C  \n",
              "2      0  STON/O2. 3101282   7.9250   NaN        S  \n",
              "3      0            113803  53.1000  C123        S  \n",
              "4      0            373450   8.0500   NaN        S  "
            ],
            "text/html": [
              "\n",
              "  <div id=\"df-21cfc85b-55be-45b6-a6a6-dd32fe59f8b1\">\n",
              "    <div class=\"colab-df-container\">\n",
              "      <div>\n",
              "<style scoped>\n",
              "    .dataframe tbody tr th:only-of-type {\n",
              "        vertical-align: middle;\n",
              "    }\n",
              "\n",
              "    .dataframe tbody tr th {\n",
              "        vertical-align: top;\n",
              "    }\n",
              "\n",
              "    .dataframe thead th {\n",
              "        text-align: right;\n",
              "    }\n",
              "</style>\n",
              "<table border=\"1\" class=\"dataframe\">\n",
              "  <thead>\n",
              "    <tr style=\"text-align: right;\">\n",
              "      <th></th>\n",
              "      <th>PassengerId</th>\n",
              "      <th>Survived</th>\n",
              "      <th>Pclass</th>\n",
              "      <th>Name</th>\n",
              "      <th>Sex</th>\n",
              "      <th>Age</th>\n",
              "      <th>SibSp</th>\n",
              "      <th>Parch</th>\n",
              "      <th>Ticket</th>\n",
              "      <th>Fare</th>\n",
              "      <th>Cabin</th>\n",
              "      <th>Embarked</th>\n",
              "    </tr>\n",
              "  </thead>\n",
              "  <tbody>\n",
              "    <tr>\n",
              "      <th>0</th>\n",
              "      <td>1</td>\n",
              "      <td>0</td>\n",
              "      <td>3</td>\n",
              "      <td>Braund, Mr. Owen Harris</td>\n",
              "      <td>male</td>\n",
              "      <td>22.0</td>\n",
              "      <td>1</td>\n",
              "      <td>0</td>\n",
              "      <td>A/5 21171</td>\n",
              "      <td>7.2500</td>\n",
              "      <td>NaN</td>\n",
              "      <td>S</td>\n",
              "    </tr>\n",
              "    <tr>\n",
              "      <th>1</th>\n",
              "      <td>2</td>\n",
              "      <td>1</td>\n",
              "      <td>1</td>\n",
              "      <td>Cumings, Mrs. John Bradley (Florence Briggs Th...</td>\n",
              "      <td>female</td>\n",
              "      <td>38.0</td>\n",
              "      <td>1</td>\n",
              "      <td>0</td>\n",
              "      <td>PC 17599</td>\n",
              "      <td>71.2833</td>\n",
              "      <td>C85</td>\n",
              "      <td>C</td>\n",
              "    </tr>\n",
              "    <tr>\n",
              "      <th>2</th>\n",
              "      <td>3</td>\n",
              "      <td>1</td>\n",
              "      <td>3</td>\n",
              "      <td>Heikkinen, Miss. Laina</td>\n",
              "      <td>female</td>\n",
              "      <td>26.0</td>\n",
              "      <td>0</td>\n",
              "      <td>0</td>\n",
              "      <td>STON/O2. 3101282</td>\n",
              "      <td>7.9250</td>\n",
              "      <td>NaN</td>\n",
              "      <td>S</td>\n",
              "    </tr>\n",
              "    <tr>\n",
              "      <th>3</th>\n",
              "      <td>4</td>\n",
              "      <td>1</td>\n",
              "      <td>1</td>\n",
              "      <td>Futrelle, Mrs. Jacques Heath (Lily May Peel)</td>\n",
              "      <td>female</td>\n",
              "      <td>35.0</td>\n",
              "      <td>1</td>\n",
              "      <td>0</td>\n",
              "      <td>113803</td>\n",
              "      <td>53.1000</td>\n",
              "      <td>C123</td>\n",
              "      <td>S</td>\n",
              "    </tr>\n",
              "    <tr>\n",
              "      <th>4</th>\n",
              "      <td>5</td>\n",
              "      <td>0</td>\n",
              "      <td>3</td>\n",
              "      <td>Allen, Mr. William Henry</td>\n",
              "      <td>male</td>\n",
              "      <td>35.0</td>\n",
              "      <td>0</td>\n",
              "      <td>0</td>\n",
              "      <td>373450</td>\n",
              "      <td>8.0500</td>\n",
              "      <td>NaN</td>\n",
              "      <td>S</td>\n",
              "    </tr>\n",
              "  </tbody>\n",
              "</table>\n",
              "</div>\n",
              "      <button class=\"colab-df-convert\" onclick=\"convertToInteractive('df-21cfc85b-55be-45b6-a6a6-dd32fe59f8b1')\"\n",
              "              title=\"Convert this dataframe to an interactive table.\"\n",
              "              style=\"display:none;\">\n",
              "        \n",
              "  <svg xmlns=\"http://www.w3.org/2000/svg\" height=\"24px\"viewBox=\"0 0 24 24\"\n",
              "       width=\"24px\">\n",
              "    <path d=\"M0 0h24v24H0V0z\" fill=\"none\"/>\n",
              "    <path d=\"M18.56 5.44l.94 2.06.94-2.06 2.06-.94-2.06-.94-.94-2.06-.94 2.06-2.06.94zm-11 1L8.5 8.5l.94-2.06 2.06-.94-2.06-.94L8.5 2.5l-.94 2.06-2.06.94zm10 10l.94 2.06.94-2.06 2.06-.94-2.06-.94-.94-2.06-.94 2.06-2.06.94z\"/><path d=\"M17.41 7.96l-1.37-1.37c-.4-.4-.92-.59-1.43-.59-.52 0-1.04.2-1.43.59L10.3 9.45l-7.72 7.72c-.78.78-.78 2.05 0 2.83L4 21.41c.39.39.9.59 1.41.59.51 0 1.02-.2 1.41-.59l7.78-7.78 2.81-2.81c.8-.78.8-2.07 0-2.86zM5.41 20L4 18.59l7.72-7.72 1.47 1.35L5.41 20z\"/>\n",
              "  </svg>\n",
              "      </button>\n",
              "      \n",
              "  <style>\n",
              "    .colab-df-container {\n",
              "      display:flex;\n",
              "      flex-wrap:wrap;\n",
              "      gap: 12px;\n",
              "    }\n",
              "\n",
              "    .colab-df-convert {\n",
              "      background-color: #E8F0FE;\n",
              "      border: none;\n",
              "      border-radius: 50%;\n",
              "      cursor: pointer;\n",
              "      display: none;\n",
              "      fill: #1967D2;\n",
              "      height: 32px;\n",
              "      padding: 0 0 0 0;\n",
              "      width: 32px;\n",
              "    }\n",
              "\n",
              "    .colab-df-convert:hover {\n",
              "      background-color: #E2EBFA;\n",
              "      box-shadow: 0px 1px 2px rgba(60, 64, 67, 0.3), 0px 1px 3px 1px rgba(60, 64, 67, 0.15);\n",
              "      fill: #174EA6;\n",
              "    }\n",
              "\n",
              "    [theme=dark] .colab-df-convert {\n",
              "      background-color: #3B4455;\n",
              "      fill: #D2E3FC;\n",
              "    }\n",
              "\n",
              "    [theme=dark] .colab-df-convert:hover {\n",
              "      background-color: #434B5C;\n",
              "      box-shadow: 0px 1px 3px 1px rgba(0, 0, 0, 0.15);\n",
              "      filter: drop-shadow(0px 1px 2px rgba(0, 0, 0, 0.3));\n",
              "      fill: #FFFFFF;\n",
              "    }\n",
              "  </style>\n",
              "\n",
              "      <script>\n",
              "        const buttonEl =\n",
              "          document.querySelector('#df-21cfc85b-55be-45b6-a6a6-dd32fe59f8b1 button.colab-df-convert');\n",
              "        buttonEl.style.display =\n",
              "          google.colab.kernel.accessAllowed ? 'block' : 'none';\n",
              "\n",
              "        async function convertToInteractive(key) {\n",
              "          const element = document.querySelector('#df-21cfc85b-55be-45b6-a6a6-dd32fe59f8b1');\n",
              "          const dataTable =\n",
              "            await google.colab.kernel.invokeFunction('convertToInteractive',\n",
              "                                                     [key], {});\n",
              "          if (!dataTable) return;\n",
              "\n",
              "          const docLinkHtml = 'Like what you see? Visit the ' +\n",
              "            '<a target=\"_blank\" href=https://colab.research.google.com/notebooks/data_table.ipynb>data table notebook</a>'\n",
              "            + ' to learn more about interactive tables.';\n",
              "          element.innerHTML = '';\n",
              "          dataTable['output_type'] = 'display_data';\n",
              "          await google.colab.output.renderOutput(dataTable, element);\n",
              "          const docLink = document.createElement('div');\n",
              "          docLink.innerHTML = docLinkHtml;\n",
              "          element.appendChild(docLink);\n",
              "        }\n",
              "      </script>\n",
              "    </div>\n",
              "  </div>\n",
              "  "
            ]
          },
          "metadata": {},
          "execution_count": 67
        }
      ]
    },
    {
      "cell_type": "markdown",
      "source": [
        "## 2. What is the percentage of people who survived? (hint: find the mean of the survival column)."
      ],
      "metadata": {
        "id": "9HwXk3rOCoqG"
      }
    },
    {
      "cell_type": "code",
      "source": [
        "# 2. What is the percentage of people who survived? \n",
        "# (hint: find the mean of the survival column).\n",
        "\n",
        "survival_percentage = titanic_df['Survived'].mean().round(2)*100\n",
        "f\"{survival_percentage}%\"\n"
      ],
      "metadata": {
        "colab": {
          "base_uri": "https://localhost:8080/",
          "height": 35
        },
        "id": "pfk0CCIYCbhD",
        "outputId": "8cbf26c7-02b6-4e9b-f10e-dbd88c4dfe7d"
      },
      "execution_count": 68,
      "outputs": [
        {
          "output_type": "execute_result",
          "data": {
            "text/plain": [
              "'38.0%'"
            ],
            "application/vnd.google.colaboratory.intrinsic+json": {
              "type": "string"
            }
          },
          "metadata": {},
          "execution_count": 68
        }
      ]
    },
    {
      "cell_type": "markdown",
      "source": [
        "## 3. How many of each sex survived?"
      ],
      "metadata": {
        "id": "RwXybvQADYf0"
      }
    },
    {
      "cell_type": "code",
      "source": [
        "# 3. How many of each sex survived?\n",
        "\n",
        "# creating a survived filter\n",
        "survived_filter = titanic_df['Survived'] == 1 \n",
        "# creating a survived df in order to use value_counts method for answer\n",
        "titanic_sur_df = titanic_df[survived_filter] \n",
        "titanic_sur_df['Sex'].value_counts()\n",
        "\n",
        "# Answer: There were 233 females that survied and 109 males that survived."
      ],
      "metadata": {
        "colab": {
          "base_uri": "https://localhost:8080/"
        },
        "id": "qviTyv5jDerA",
        "outputId": "ac8aa4e5-504d-4e49-e746-cb690943bec9"
      },
      "execution_count": 69,
      "outputs": [
        {
          "output_type": "execute_result",
          "data": {
            "text/plain": [
              "female    233\n",
              "male      109\n",
              "Name: Sex, dtype: int64"
            ]
          },
          "metadata": {},
          "execution_count": 69
        }
      ]
    },
    {
      "cell_type": "markdown",
      "source": [
        "## 4. Considering only the group of passengers who paid less than $10, what percentage of this group survived? Hint: You can filter the dataframe based on the fare, and then use value_counts(normalize = True) on the \"Survived\" column to obtain proportions instead of sums. For example 0.25 would indicate 25%"
      ],
      "metadata": {
        "id": "_Sp2X1aWEO4p"
      }
    },
    {
      "cell_type": "code",
      "source": [
        "# 4. Considering only the group of passengers who paid less than $10, what \n",
        "# percentage of this group survived? Hint: You can filter the dataframe based \n",
        "# on the fare, and then use value_counts(normalize = True) on the \"Survived\" \n",
        "# column to obtain proportions instead of sums. \n",
        "#For example 0.25 would indicate 25%\n",
        "\n",
        "# creating df for  Far < $10 by applying the filter condition to survived df\n",
        "less_10_df = titanic_sur_df[titanic_df['Fare'] < 10]  \n",
        "\n",
        "# percentage math by using length of Fare < $10 and original df\n",
        "pct = round(len(less_10_df)/len(titanic_df), 3)*100\n",
        "pct\n",
        "\n",
        "# Answer: From the group that paid less than $10, ther were approx 19.6% that\n",
        "# survived. "
      ],
      "metadata": {
        "colab": {
          "base_uri": "https://localhost:8080/"
        },
        "id": "7uu7BGPHETSb",
        "outputId": "a85ab8fc-df24-4e99-c718-0a2ed612d9ae"
      },
      "execution_count": 70,
      "outputs": [
        {
          "output_type": "stream",
          "name": "stderr",
          "text": [
            "/usr/local/lib/python3.7/dist-packages/ipykernel_launcher.py:8: UserWarning: Boolean Series key will be reindexed to match DataFrame index.\n",
            "  \n"
          ]
        },
        {
          "output_type": "execute_result",
          "data": {
            "text/plain": [
              "7.5"
            ]
          },
          "metadata": {},
          "execution_count": 70
        }
      ]
    },
    {
      "cell_type": "markdown",
      "source": [
        "## 5. Overall, what is the average age of those who didn't survive?"
      ],
      "metadata": {
        "id": "7TNCNdm6LwFQ"
      }
    },
    {
      "cell_type": "code",
      "source": [
        "\n",
        "# 5. Overall, what is the average age of those who didn't survive?\n",
        "\n",
        "died_df = titanic_df[titanic_df['Survived'] == 0]\n",
        "average_age_of_dead = died_df['Age'].mean().round(2)\n",
        "average_age_of_dead"
      ],
      "metadata": {
        "colab": {
          "base_uri": "https://localhost:8080/"
        },
        "id": "oSRRw8gBME2m",
        "outputId": "fd96a261-5867-4227-e872-2c4f9ac3b723"
      },
      "execution_count": 71,
      "outputs": [
        {
          "output_type": "execute_result",
          "data": {
            "text/plain": [
              "30.63"
            ]
          },
          "metadata": {},
          "execution_count": 71
        }
      ]
    },
    {
      "cell_type": "markdown",
      "source": [
        "## 6. Overall, what is the average age of those who did survive?"
      ],
      "metadata": {
        "id": "tKCfkBTJL02G"
      }
    },
    {
      "cell_type": "code",
      "source": [
        "# 6. Overall, what is the average age of those who did survive?\n",
        "\n",
        "average_age_of_not_dead = titanic_sur_df['Age'].mean().round(2)\n",
        "average_age_of_not_dead"
      ],
      "metadata": {
        "colab": {
          "base_uri": "https://localhost:8080/"
        },
        "id": "BCgmqLFLPPEI",
        "outputId": "c86d0d63-8319-401b-afe0-77e1375b2218"
      },
      "execution_count": 72,
      "outputs": [
        {
          "output_type": "execute_result",
          "data": {
            "text/plain": [
              "28.34"
            ]
          },
          "metadata": {},
          "execution_count": 72
        }
      ]
    },
    {
      "cell_type": "markdown",
      "source": [
        "## 7. What is the average age of those who did and didn't survive grouped by Sex?"
      ],
      "metadata": {
        "id": "COaQe0YEL4FG"
      }
    },
    {
      "cell_type": "code",
      "source": [
        "# 7. What is the average age of those who did and didn't survive grouped by Sex?\n",
        "titanic_df.groupby(['Survived', 'Sex'])['Age'].mean().round(2)"
      ],
      "metadata": {
        "colab": {
          "base_uri": "https://localhost:8080/"
        },
        "id": "GD-22VcKPv2V",
        "outputId": "14f4fefb-0ced-4ad0-9503-187792cd1a3e"
      },
      "execution_count": 73,
      "outputs": [
        {
          "output_type": "execute_result",
          "data": {
            "text/plain": [
              "Survived  Sex   \n",
              "0         female    25.05\n",
              "          male      31.62\n",
              "1         female    28.85\n",
              "          male      27.28\n",
              "Name: Age, dtype: float64"
            ]
          },
          "metadata": {},
          "execution_count": 73
        }
      ]
    },
    {
      "cell_type": "markdown",
      "source": [
        "# Final Thoughts\n",
        "\n",
        "Looking through the questions and the values obtained, it was a super rough going for poor people. The 19.6% survival percentage of the passengers that paid less than $10 for Fare was truly eye-popping. In terms of survival by gender it 233 females survived as opposed to 109 males. Taking into account context of the time, it makes sense as females were higher in evacuation priority. When looking at the average age of the survivors and non-survivors the data shows that the younger people were more likely to survive.\n",
        "\n",
        "![Screenshot 2022-06-29 232635.png](data:image/png;base64,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)\n",
        "\n",
        " The average age of survivors was lower than the non-survivors. One can assume that the evacuation priority for children skwed the survival median age to be lower. Also to not is that older passengers not having the stamina to endure the aftermath of the sinking before the full rescue, made them more at risk to pass. "
      ],
      "metadata": {
        "id": "zXMTz8gvQbLG"
      }
    }
  ]
}